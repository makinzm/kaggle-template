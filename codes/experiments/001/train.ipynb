{
 "cells": [
  {
   "cell_type": "code",
   "execution_count": null,
   "metadata": {},
   "outputs": [],
   "source": [
    "import os\n",
    "\n",
    "import polars as pl\n",
    "\n",
    "KAGGLE_ENV = os.getenv(\"KAGGLE_DATA_PROXY_TOKEN\") is not None\n",
    "print(KAGGLE_ENV)\n",
    "if not KAGGLE_ENV:\n",
    "    import rootutils\n",
    "\n",
    "    ROOT_DIR = rootutils.setup_root(\".\", indicator=\".project-root\", cwd=True, pythonpath=True)\n",
    "\n",
    "    print(ROOT_DIR)\n",
    "\n",
    "from src.hello import hello\n",
    "\n",
    "hello()\n",
    "df = pl.read_csv(\"/kaggle/input/spaceship-titanic/sample_submission.csv\")\n",
    "df.write_csv(\"submission.csv\")"
   ]
  },
  {
   "cell_type": "code",
   "execution_count": null,
   "metadata": {},
   "outputs": [],
   "source": []
  }
 ],
 "metadata": {
  "kernelspec": {
   "display_name": ".venv",
   "language": "python",
   "name": "python3"
  },
  "language_info": {
   "codemirror_mode": {
    "name": "ipython",
    "version": 3
   },
   "file_extension": ".py",
   "mimetype": "text/x-python",
   "name": "python",
   "nbconvert_exporter": "python",
   "pygments_lexer": "ipython3",
   "version": "3.11.9"
  }
 },
 "nbformat": 4,
 "nbformat_minor": 2
}
